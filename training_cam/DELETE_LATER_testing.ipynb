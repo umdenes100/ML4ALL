{
 "cells": [
  {
   "cell_type": "code",
   "execution_count": 1,
   "id": "32774706-7c6e-4c26-9eef-2286e8afdb74",
   "metadata": {},
   "outputs": [],
   "source": [
    "import cv2\n",
    "import numpy as np\n",
    "import requests\n",
    "\n",
    "URL = 'http://192.168.1.38'"
   ]
  },
  {
   "cell_type": "code",
   "execution_count": 12,
   "id": "3e5683fc-fdb8-410b-a3e6-a19f6f9d77ac",
   "metadata": {},
   "outputs": [
    {
     "data": {
      "application/vnd.jupyter.widget-view+json": {
       "model_id": "0d884b490dbf4fd58e029321d3e82cd4",
       "version_major": 2,
       "version_minor": 0
      },
      "text/plain": [
       "Image(value=b'')"
      ]
     },
     "metadata": {},
     "output_type": "display_data"
    },
    {
     "ename": "KeyboardInterrupt",
     "evalue": "",
     "output_type": "error",
     "traceback": [
      "\u001b[0;31m---------------------------------------------------------------------------\u001b[0m",
      "\u001b[0;31mKeyboardInterrupt\u001b[0m                         Traceback (most recent call last)",
      "\u001b[0;32m<ipython-input-12-fe1f198e5728>\u001b[0m in \u001b[0;36m<module>\u001b[0;34m\u001b[0m\n\u001b[1;32m     29\u001b[0m     \u001b[0;31m#pil_image.show()\u001b[0m\u001b[0;34m\u001b[0m\u001b[0;34m\u001b[0m\u001b[0;34m\u001b[0m\u001b[0m\n\u001b[1;32m     30\u001b[0m \u001b[0;34m\u001b[0m\u001b[0m\n\u001b[0;32m---> 31\u001b[0;31m     \u001b[0mimage_widget\u001b[0m\u001b[0;34m.\u001b[0m\u001b[0mvalue\u001b[0m \u001b[0;34m=\u001b[0m \u001b[0mbgr8_to_jpeg\u001b[0m\u001b[0;34m(\u001b[0m\u001b[0mframe\u001b[0m\u001b[0;34m)\u001b[0m\u001b[0;34m\u001b[0m\u001b[0;34m\u001b[0m\u001b[0m\n\u001b[0m\u001b[1;32m     32\u001b[0m \u001b[0;34m\u001b[0m\u001b[0m\n\u001b[1;32m     33\u001b[0m     \u001b[0;31m#cap.release()\u001b[0m\u001b[0;34m\u001b[0m\u001b[0;34m\u001b[0m\u001b[0;34m\u001b[0m\u001b[0m\n",
      "\u001b[0;32m/usr/local/lib/python3.6/dist-packages/jetcam-0.0.0-py3.6.egg/jetcam/utils.py\u001b[0m in \u001b[0;36mbgr8_to_jpeg\u001b[0;34m(value, quality)\u001b[0m\n\u001b[1;32m      3\u001b[0m \u001b[0;34m\u001b[0m\u001b[0m\n\u001b[1;32m      4\u001b[0m \u001b[0;32mdef\u001b[0m \u001b[0mbgr8_to_jpeg\u001b[0m\u001b[0;34m(\u001b[0m\u001b[0mvalue\u001b[0m\u001b[0;34m,\u001b[0m \u001b[0mquality\u001b[0m\u001b[0;34m=\u001b[0m\u001b[0;36m75\u001b[0m\u001b[0;34m)\u001b[0m\u001b[0;34m:\u001b[0m\u001b[0;34m\u001b[0m\u001b[0;34m\u001b[0m\u001b[0m\n\u001b[0;32m----> 5\u001b[0;31m     \u001b[0;32mreturn\u001b[0m \u001b[0mbytes\u001b[0m\u001b[0;34m(\u001b[0m\u001b[0mcv2\u001b[0m\u001b[0;34m.\u001b[0m\u001b[0mimencode\u001b[0m\u001b[0;34m(\u001b[0m\u001b[0;34m'.jpg'\u001b[0m\u001b[0;34m,\u001b[0m \u001b[0mvalue\u001b[0m\u001b[0;34m)\u001b[0m\u001b[0;34m[\u001b[0m\u001b[0;36m1\u001b[0m\u001b[0;34m]\u001b[0m\u001b[0;34m)\u001b[0m\u001b[0;34m\u001b[0m\u001b[0;34m\u001b[0m\u001b[0m\n\u001b[0m",
      "\u001b[0;31mKeyboardInterrupt\u001b[0m: "
     ]
    }
   ],
   "source": [
    "import traitlets\n",
    "import ipywidgets.widgets as widgets\n",
    "from IPython.display import display\n",
    "from jetcam.utils import bgr8_to_jpeg\n",
    "#from enesUtils import arr_to_img\n",
    "from PIL import Image\n",
    "from time import sleep\n",
    "\n",
    "image_widget = widgets.Image()\n",
    "display(image_widget)\n",
    "\n",
    "cap = cv2.VideoCapture(URL + \":81/stream\")\n",
    "\n",
    "while True:\n",
    "    if cap.isOpened():\n",
    "        #print(\"open\")\n",
    "        ret, frame = cap.read()\n",
    "        #if ret:\n",
    "            #pil_mode = cv2.cvtColor(frame, cv2.COLOR_BGR2RGB)\n",
    "\n",
    "    else:\n",
    "        print(\"not open\")\n",
    "\n",
    "    #image = widgets.Image(format='jpeg', width=224, height=224)  # this width and height doesn't necessarily have to match the camera\n",
    "\n",
    "    #camera_link = traitlets.dlink(frame, (image, 'value'), transform=bgr8_to_jpeg)\n",
    "\n",
    "    #pil_image = Image.fromarray(pil_mode)\n",
    "    #pil_image.show()\n",
    "    \n",
    "    image_widget.value = bgr8_to_jpeg(frame)\n",
    "    \n",
    "    #cap.release()\n",
    "    #cv2.destroyAllWindows()\n",
    "    \n",
    "    #sleep(.1)"
   ]
  },
  {
   "cell_type": "code",
   "execution_count": 2,
   "id": "72a87f21-7247-4f71-9adb-8758d4c5ba3f",
   "metadata": {},
   "outputs": [],
   "source": [
    "from jetcam.usb_camera import Camera\n",
    "from jetcam.utils import bgr8_to_jpeg\n",
    "\n",
    "class ESPCamera(Camera):\n",
    "    def _read(self):\n",
    "        if self.cap.isOpened():\n",
    "            #print(\"is open\")\n",
    "            ret, self.frame = self.cap.read()\n",
    "            if ret and self.frame is not None:\n",
    "                #self.it+=1\n",
    "                #print(self.it)\n",
    "                #print(self.frame.size)\n",
    "                #cv2.imwrite('swag'+str(self.it)+'.jpg',self.frame) \n",
    "                image_bytes = cv2.imencode('.jpg', self.frame)[1].tobytes()                \n",
    "                #temp = bgr8_to_jpeg(image_bytes)\n",
    "                return image_bytes\n",
    "            else:\n",
    "                print(\"ruh roh\")\n",
    "        else:\n",
    "            print(\"not open\")\n",
    "    def __init__(self, *args, **kwargs):\n",
    "        super(Camera, self).__init__(*args, **kwargs)\n",
    "        self.frame = bgr8_to_jpeg(np.zeros((350, 500, 3), dtype = np.uint8))\n",
    "        self.value = self.frame\n",
    "        self.cap = cv2.VideoCapture(URL + \":81/stream\")\n",
    "        #self.it = 0\n",
    "        self.running = True\n",
    "        #ret, self.frame = self.cap.read()\n",
    "        #self.value = self.frame\n"
   ]
  },
  {
   "cell_type": "code",
   "execution_count": 3,
   "id": "78f0b32a-7f8e-49ed-b5ed-0969bae33926",
   "metadata": {},
   "outputs": [
    {
     "data": {
      "application/vnd.jupyter.widget-view+json": {
       "model_id": "d9634d2de4f44d4582e29203bc97ddc0",
       "version_major": 2,
       "version_minor": 0
      },
      "text/plain": [
       "Image(value=b'', format='jpeg')"
      ]
     },
     "metadata": {},
     "output_type": "display_data"
    },
    {
     "data": {
      "text/plain": [
       "<traitlets.traitlets.directional_link at 0x7f7c580eb8>"
      ]
     },
     "execution_count": 3,
     "metadata": {},
     "output_type": "execute_result"
    }
   ],
   "source": [
    "import traitlets\n",
    "import ipywidgets.widgets as widgets\n",
    "from IPython.display import display\n",
    "from PIL import Image\n",
    "from time import sleep\n",
    "\n",
    "camera = ESPCamera()\n",
    "\n",
    "image_widget = widgets.Image(format='jpeg')\n",
    "display(image_widget)\n",
    "\n",
    "traitlets.dlink((camera, 'value'), (image_widget, 'value'))#, transform=bgr8_to_jpeg)\n"
   ]
  },
  {
   "cell_type": "code",
   "execution_count": null,
   "id": "9a8c8809-255d-4678-aab2-feaa4630346a",
   "metadata": {},
   "outputs": [],
   "source": []
  },
  {
   "cell_type": "code",
   "execution_count": null,
   "id": "57339340-fd9d-4472-bdf3-b4badc47ab61",
   "metadata": {},
   "outputs": [],
   "source": []
  }
 ],
 "metadata": {
  "kernelspec": {
   "display_name": "Python 3",
   "language": "python",
   "name": "python3"
  },
  "language_info": {
   "codemirror_mode": {
    "name": "ipython",
    "version": 3
   },
   "file_extension": ".py",
   "mimetype": "text/x-python",
   "name": "python",
   "nbconvert_exporter": "python",
   "pygments_lexer": "ipython3",
   "version": "3.6.9"
  }
 },
 "nbformat": 4,
 "nbformat_minor": 5
}
